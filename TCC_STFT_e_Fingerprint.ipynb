{
  "nbformat": 4,
  "nbformat_minor": 0,
  "metadata": {
    "colab": {
      "provenance": [],
      "mount_file_id": "1BeZml5i9ZYhgRYyMvQth1QKR2xncrkuX",
      "authorship_tag": "ABX9TyP8NjZ6evyYbECjAy4V3p8y",
      "include_colab_link": true
    },
    "kernelspec": {
      "name": "python3",
      "display_name": "Python 3"
    },
    "language_info": {
      "name": "python"
    }
  },
  "cells": [
    {
      "cell_type": "markdown",
      "metadata": {
        "id": "view-in-github",
        "colab_type": "text"
      },
      "source": [
        "<a href=\"https://colab.research.google.com/github/felipednegredo/tcc-emocoes-musicais-codigo/blob/main/TCC_STFT_e_Fingerprint.ipynb\" target=\"_parent\"><img src=\"https://colab.research.google.com/assets/colab-badge.svg\" alt=\"Open In Colab\"/></a>"
      ]
    },
    {
      "cell_type": "markdown",
      "source": [
        "## Biblotecas"
      ],
      "metadata": {
        "id": "J3yATpYpJBMG"
      }
    },
    {
      "cell_type": "code",
      "execution_count": null,
      "metadata": {
        "id": "LEmD0CyXiKe8"
      },
      "outputs": [],
      "source": [
        "from pathlib import Path\n",
        "from typing import Optional, Dict, Any, List, Tuple\n",
        "import io, zlib, os\n",
        "import numpy as np\n",
        "import pandas as pd\n",
        "from IPython.display import Audio, display\n",
        "\n",
        "# Import pyarrow and pyarrow.dataset\n",
        "import pyarrow as pa\n",
        "import pyarrow.dataset as ds\n",
        "\n",
        "\n",
        "# Limitar threads BLAS quando paralelizar\n",
        "os.environ.setdefault(\"OMP_NUM_THREADS\", \"1\")\n",
        "os.environ.setdefault(\"OPENBLAS_NUM_THREADS\", \"1\")\n",
        "os.environ.setdefault(\"MKL_NUM_THREADS\", \"1\")\n",
        "\n",
        "try:\n",
        "    import soundfile as sf\n",
        "    _HAS_SF = True\n",
        "except Exception:\n",
        "    _HAS_SF = False\n",
        "\n",
        "# ---------- utilidades ----------\n",
        "_DTYPE_ALIASES = {\n",
        "    None: np.int16,\n",
        "    \"int16\": np.int16, \"i2\": np.int16, \"pcm_s16le\": np.int16,\n",
        "    \"int32\": np.int32, \"i4\": np.int32, \"pcm_s32le\": np.int32,\n",
        "    \"float32\": np.float32, \"f4\": np.float32, \"pcm_f32le\": np.float32,\n",
        "    \"float64\": np.float64, \"f8\": np.float64, \"pcm_f64le\": np.float64,\n",
        "}\n",
        "\n",
        "try:\n",
        "    import librosa as lb\n",
        "except Exception as e:\n",
        "    raise RuntimeError(\"Instale librosa: pip install librosa\") from e"
      ]
    },
    {
      "cell_type": "markdown",
      "source": [
        "## Utils"
      ],
      "metadata": {
        "id": "q6SNU1coh-Hj"
      }
    },
    {
      "cell_type": "code",
      "source": [
        "def ndarray_to_bytes(arr: np.ndarray, compress: bool = True) -> bytes:\n",
        "    arr = np.ascontiguousarray(arr)  # mantém dtype (pode ser float32 ou complex64)\n",
        "    buf = io.BytesIO()\n",
        "    # np.save guarda shape e dtype junto\n",
        "    np.save(buf, arr, allow_pickle=False)\n",
        "    raw = buf.getvalue()\n",
        "    return zlib.compress(raw, level=6) if compress else raw"
      ],
      "metadata": {
        "id": "ssTF5PLah_gC"
      },
      "execution_count": null,
      "outputs": []
    },
    {
      "cell_type": "code",
      "source": [
        "def bytes_to_ndarray(b: bytes, compressed: bool = True) -> np.ndarray:\n",
        "    raw = zlib.decompress(b) if compressed else b\n",
        "    return np.load(io.BytesIO(raw), allow_pickle=False)"
      ],
      "metadata": {
        "id": "qPE-85hbiBXT"
      },
      "execution_count": null,
      "outputs": []
    },
    {
      "cell_type": "code",
      "source": [
        "def _read_parquet_safe(p: Path) -> pd.DataFrame:\n",
        "    try:\n",
        "        return pd.read_parquet(p)\n",
        "    except Exception as e:\n",
        "        print(f\"⚠️  Falha ao ler '{p.name}': {e}\")\n",
        "        return pd.DataFrame()"
      ],
      "metadata": {
        "id": "dP-UE-GQfTP8"
      },
      "execution_count": null,
      "outputs": []
    },
    {
      "cell_type": "markdown",
      "source": [
        "## STFT"
      ],
      "metadata": {
        "id": "LW-LtVHQiDy5"
      }
    },
    {
      "cell_type": "markdown",
      "source": [
        "### Funções auxiliares"
      ],
      "metadata": {
        "id": "aAU4SM9_Qemu"
      }
    },
    {
      "cell_type": "code",
      "source": [
        "def timeSeries(frequence,startTime, finalTime):\n",
        "    '''Gera um vetor de tempo (em segundos).\n",
        "    frequence: taxa de amostragem (Hz)\n",
        "    startTime: instante inicial (segundos), normalmente 0.0\n",
        "    duration: duração em segundos\n",
        "    Retorna: np.ndarray com shape (N,), onde N = floor(sr * duration)\n",
        "    '''\n",
        "    T = 1./frequence\n",
        "    timeSeries = np.arange(startTime,finalTime,T)\n",
        "    return timeSeries"
      ],
      "metadata": {
        "id": "eTkhk5cnebp6"
      },
      "execution_count": null,
      "outputs": []
    },
    {
      "cell_type": "code",
      "source": [
        "def genSignal(frequence, amplitude, timeSeries):\n",
        "    \"\"\"\n",
        "    Gera uma senoide amp * sin(2π f t) para um vetor de tempo 'timeSeries' (em segundos).\n",
        "    Parâmetros:\n",
        "        frequence (float): frequência em Hz\n",
        "        amplitude (float): amplitude do sinal\n",
        "        timeSeries (np.ndarray): série temporal em segundos (shape: (N,))\n",
        "    Retorna:\n",
        "        np.ndarray (N,): senoide\n",
        "    \"\"\"\n",
        "    return amplitude * np.sin(2.0 * np.pi * frequence * timeSeries)"
      ],
      "metadata": {
        "id": "YZj75dpsQkLV"
      },
      "execution_count": null,
      "outputs": []
    },
    {
      "cell_type": "code",
      "source": [
        "def plotSignal(\n",
        "    signal,\n",
        "    time,\n",
        "    titulo: str = \"Sinal no tempo\",\n",
        "    figsize: tuple = (900, 350),\n",
        "    xlim: tuple = None,\n",
        "    ylim: tuple = None,\n",
        "    color: str = \"royalblue\",\n",
        "    savepath: str = None,\n",
        "    focus_cycles: int = 5,       # nº de ciclos para zoom inicial\n",
        "    frequency: float = None      # frequência em Hz -> define período\n",
        "):\n",
        "    \"\"\"\n",
        "    Plota um sinal (1D) em função do tempo usando Plotly (interativo),\n",
        "    focando em alguns períodos iniciais se frequency for fornecida.\n",
        "    Mostra também o período no título.\n",
        "    \"\"\"\n",
        "\n",
        "    signal = np.asarray(signal).squeeze()\n",
        "    time = np.asarray(time).squeeze()\n",
        "\n",
        "    if signal.shape != time.shape:\n",
        "        raise ValueError(\"signal e time devem ter o mesmo formato\")\n",
        "\n",
        "    # Auto escala Y\n",
        "    if ylim is None:\n",
        "        smin, smax = float(np.min(signal)), float(np.max(signal))\n",
        "        span = smax - smin\n",
        "        ylim = (smin - 0.1 * span, smax + 0.1 * span) if span > 0 else (-1, 1)\n",
        "\n",
        "    # Ajusta título se frequência fornecida\n",
        "    if frequency and frequency > 0:\n",
        "        period = 1.0 / frequency\n",
        "        titulo = f\"{titulo} • f = {frequency:.2f} Hz • T = {period:.4f} s\"\n",
        "        xlim_auto = (0, focus_cycles * period)\n",
        "    else:\n",
        "        period = None\n",
        "        xlim_auto = xlim\n",
        "\n",
        "    # Criação do gráfico\n",
        "    fig = go.Figure()\n",
        "    fig.add_trace(go.Scatter(\n",
        "        x=time, y=signal,\n",
        "        mode=\"lines\",\n",
        "        name=\"Sinal\",\n",
        "        line=dict(color=color)\n",
        "    ))\n",
        "\n",
        "    # Layout básico\n",
        "    fig.update_layout(\n",
        "        title=titulo,\n",
        "        xaxis_title=\"Tempo (s)\",\n",
        "        yaxis_title=\"Amplitude\",\n",
        "        width=figsize[0],\n",
        "        height=figsize[1],\n",
        "        template=\"plotly_white\",\n",
        "        margin=dict(l=60, r=20, t=50, b=50),\n",
        "        hovermode=\"x unified\",\n",
        "        dragmode=\"zoom\"\n",
        "    )\n",
        "\n",
        "    # Ajusta zoom inicial (períodos)\n",
        "    fig.update_xaxes(\n",
        "        range=xlim_auto,\n",
        "        showgrid=True,\n",
        "        zeroline=False,\n",
        "        rangeslider=dict(visible=True),\n",
        "        rangeselector=dict(\n",
        "            buttons=list([\n",
        "                dict(count=0.1, label=\"100ms\", step=\"second\", stepmode=\"backward\"),\n",
        "                dict(count=1,   label=\"1s\",    step=\"second\", stepmode=\"backward\"),\n",
        "                dict(count=5,   label=\"5s\",    step=\"second\", stepmode=\"backward\"),\n",
        "                dict(step=\"all\",label=\"Tudo\")\n",
        "            ])\n",
        "        )\n",
        "    )\n",
        "\n",
        "    # Eixo Y\n",
        "    fig.update_yaxes(range=ylim, showgrid=True, zeroline=False)\n",
        "\n",
        "    # Exportar ou mostrar\n",
        "    if savepath:\n",
        "        if savepath.endswith(\".html\"):\n",
        "            fig.write_html(savepath)\n",
        "        elif savepath.endswith(\".png\"):\n",
        "            fig.write_image(savepath)\n",
        "        else:\n",
        "            raise ValueError(\"Formato de arquivo não suportado. Use .html ou .png\")\n",
        "    else:\n",
        "        fig.show()\n"
      ],
      "metadata": {
        "id": "1pkiE2L2QmSG"
      },
      "execution_count": null,
      "outputs": []
    },
    {
      "cell_type": "code",
      "source": [
        "def sineWave(frequence, amplitude, timeSeries):\n",
        "    \"\"\"\n",
        "    Gera e plota uma senoide usando genSignal() e plotSignal().\n",
        "\n",
        "    Parâmetros:\n",
        "        frequence (float ou int): frequência em Hertz\n",
        "        amplitude (float): amplitude do sinal\n",
        "        timeSeries (np.ndarray): série temporal em segundos\n",
        "    Retorna:\n",
        "        np.ndarray: sinal gerado\n",
        "    \"\"\"\n",
        "    # Gera a senoide\n",
        "    signal = genSignal(frequence, amplitude, timeSeries)\n",
        "\n",
        "    # Plota\n",
        "    plotSignal(signal, timeSeries, titulo=f\"Senoide {frequence} Hz\")\n",
        "\n",
        "    return signal"
      ],
      "metadata": {
        "id": "b5toSTbrQn-t"
      },
      "execution_count": null,
      "outputs": []
    },
    {
      "cell_type": "markdown",
      "source": [
        "### Filtro"
      ],
      "metadata": {
        "id": "mKvRl9ktQ7qp"
      }
    },
    {
      "cell_type": "code",
      "source": [
        "def bessel_filter(x, sr, type='low', cutoff_freqs=None, order=4, axis=-1):\n",
        "    \"\"\"\n",
        "    Filtro de Bessel com fase zero (filtfilt).\n",
        "    - type: 'low' | 'high' | 'band' | 'bandstop'\n",
        "    - cutoff_freqs:\n",
        "        low/high  -> float (Hz)\n",
        "        band/stop -> (low_hz, high_hz)\n",
        "    \"\"\"\n",
        "    if sr is None or sr <= 0:\n",
        "        raise ValueError(\"sr inválido.\")\n",
        "    if order < 1:\n",
        "        raise ValueError(\"order deve ser >= 1\")\n",
        "\n",
        "    x = np.asarray(x, dtype=float)\n",
        "    nyq, eps = 0.5 * float(sr), 1e-6\n",
        "\n",
        "    def norm_clamp(hz):\n",
        "        \"\"\"Normaliza corte em Hz para (0,1) relativo ao Nyquist, com clamp leve.\"\"\"\n",
        "        return min(max(float(hz) / nyq, eps), 1 - eps)\n",
        "\n",
        "    if type in ('low', 'high'):\n",
        "        if not isinstance(cutoff_freqs, (int, float, np.floating)):\n",
        "            raise ValueError(\"Para 'low'/'high', cutoff_freqs deve ser número (Hz).\")\n",
        "        Wn = norm_clamp(cutoff_freqs)\n",
        "        btype = 'low' if type == 'low' else 'high'\n",
        "        b, a = bessel(order, Wn, btype=btype, analog=False, norm='phase')\n",
        "\n",
        "    elif type in ('band', 'bandpass', 'band-stop', 'bandstop'):\n",
        "        if not (isinstance(cutoff_freqs, (tuple, list, np.ndarray)) and len(cutoff_freqs) == 2):\n",
        "            raise ValueError(\"Para 'band'/'bandstop', cutoff_freqs deve ser (low_hz, high_hz).\")\n",
        "        low_hz, high_hz = float(cutoff_freqs[0]), float(cutoff_freqs[1])\n",
        "        if not (low_hz > 0 and high_hz > 0 and low_hz < high_hz):\n",
        "            raise ValueError(\"Banda inválida: garanta 0 < low_hz < high_hz.\")\n",
        "\n",
        "        # Ajustes simples para caber no Nyquist\n",
        "        high_hz = min(high_hz, 0.95 * nyq)\n",
        "        low_hz  = min(low_hz, max(10.0, 0.5 * high_hz))\n",
        "\n",
        "        low, high = norm_clamp(low_hz), norm_clamp(high_hz)\n",
        "        if not (0 < low < high < 1):\n",
        "            raise ValueError(f\"Banda normalizada inválida: low={low:.6f}, high={high:.6f}.\")\n",
        "\n",
        "        btype = 'bandpass' if type in ('band', 'bandpass') else 'bandstop'\n",
        "        b, a = bessel(order, [low, high], btype=btype, analog=False, norm='phase')\n",
        "    else:\n",
        "        raise ValueError(\"type inválido. Use 'low', 'high', 'band', 'bandstop'.\")\n",
        "\n",
        "    return filtfilt(b, a, x, axis=axis)\n"
      ],
      "metadata": {
        "id": "SwblG_ALQ9iZ"
      },
      "execution_count": null,
      "outputs": []
    },
    {
      "cell_type": "markdown",
      "source": [
        "## Calcular o STFT"
      ],
      "metadata": {
        "id": "asA-42YceK2y"
      }
    },
    {
      "cell_type": "code",
      "source": [
        "def calculateSTFT(signal, sr, n_fft=1024, hop_length=256, window='hann',\n",
        "                  db=True, ylim=None, xlim=None, zlim_db=(-80, 0),\n",
        "                  return_data=False, reconstruct=False, return_components=False,\n",
        "                  width=900, height=360, title='Espectrograma (STFT)',\n",
        "                  frequency: float = None,      # Hz (para calcular período e foco temporal)\n",
        "                  focus_cycles: int = 5,        # quantos ciclos mostrar no zoom inicial\n",
        "                  show_period_markers: bool = True,  # desenhar linhas verticais a cada período\n",
        "                  show: bool = True):\n",
        "    \"\"\"\n",
        "    STFT com escalas CONSISTENTES e foco por período:\n",
        "      - ylim: float ou (fmin, fmax) fixa o eixo Y em Hz\n",
        "      - xlim: (tmin, tmax) em segundos; se None, usa (0, duracao_do_sinal) ou 'focus_cycles * 1/frequency'\n",
        "      - zlim_db: (zmin, zmax) fixa a escala de cores em dB\n",
        "      - frequency + focus_cycles: abre o gráfico já focado em alguns ciclos do sinal\n",
        "      - show_period_markers: desenha linhas verticais nos instantes k*T\n",
        "\n",
        "    Retornos:\n",
        "          - return_components=True, reconstruct=False -> (f, t, S_plot, Z)\n",
        "          - return_components=True, reconstruct=True  -> (f, t, S_plot, Z, x_rec)\n",
        "          - return_components=False, return_data=True:\n",
        "              * reconstruct=False -> (f, t, S_plot)\n",
        "              * reconstruct=True  -> (f, t, S_plot, x_rec)\n",
        "          - caso contrário -> None (só plota)\n",
        "\n",
        "        Observações:\n",
        "          - S_plot está em dB se db=True, senão é magnitude.\n",
        "          - Z é o espectro complexo (fase verdadeira).\n",
        "\n",
        "    \"\"\"\n",
        "\n",
        "    # --- Preparos ---\n",
        "    x = np.asarray(signal, float).squeeze()\n",
        "    dur = len(x) / float(sr)\n",
        "\n",
        "    noverlap = n_fft - hop_length\n",
        "    win = get_window(window, n_fft, fftbins=True) if isinstance(window, str) else np.asarray(window)\n",
        "\n",
        "    # --- STFT ---\n",
        "    f, t, Z = stft(x, fs=sr, window=win,\n",
        "                   nperseg=n_fft, noverlap=noverlap,\n",
        "                   nfft=n_fft, return_onesided=True,\n",
        "                   boundary='zeros')\n",
        "    S = np.abs(Z)\n",
        "\n",
        "    # --- Magnitude → dB (ou amplitude) ---\n",
        "    if db:\n",
        "        S_plot = 20.0 * np.log10(S + 1e-10)  # dB absolutos\n",
        "        zlab = 'Magnitude (dB)'\n",
        "        zmin, zmax = (None, None) if (zlim_db is None) else (float(zlim_db[0]), float(zlim_db[1]))\n",
        "    else:\n",
        "        S_plot = S\n",
        "        zlab = 'Amplitude'\n",
        "        zmin, zmax = (None, None)\n",
        "\n",
        "    # --- Limite de frequência (Y) ---\n",
        "    if ylim is not None:\n",
        "        if np.isscalar(ylim):\n",
        "            fmin, fmax = 0.0, float(ylim)\n",
        "        else:\n",
        "            fmin, fmax = float(ylim[0]), float(ylim[1])\n",
        "        fmax = min(fmax, sr/2.0)   # Nyquist\n",
        "        fmin = max(fmin, 0.0)\n",
        "    else:\n",
        "        fmin, fmax = 0.0, sr/2.0\n",
        "\n",
        "    y_mask = (f >= fmin) & (f <= fmax)\n",
        "    f = f[y_mask]\n",
        "    S_plot = S_plot[y_mask, :]\n",
        "\n",
        "    # --- Limite de tempo (X) / foco por período ---\n",
        "    period = None\n",
        "    if (frequency is not None) and (frequency > 0):\n",
        "        period = 1.0 / float(frequency)\n",
        "        xlim_auto = (0.0, min(dur, focus_cycles * period))\n",
        "    else:\n",
        "        xlim_auto = xlim if xlim is not None else (0.0, dur)\n",
        "\n",
        "    tmin, tmax = float(xlim_auto[0]), float(xlim_auto[1])\n",
        "\n",
        "    # --- Plotly ---\n",
        "    fig = go.Figure(\n",
        "        data=go.Heatmap(\n",
        "            x=t, y=f, z=S_plot,\n",
        "            colorscale='Viridis',\n",
        "            colorbar=dict(title=zlab),\n",
        "            zsmooth=False,\n",
        "            zmin=zmin, zmax=zmax,\n",
        "            hovertemplate=\"t=%{x:.3f}s<br>f=%{y:.0f} Hz<br>Valor=%{z:.2f}<extra></extra>\"\n",
        "        )\n",
        "    )\n",
        "\n",
        "    # Título com f e T se fornecido\n",
        "    if period is not None:\n",
        "        title = f\"{title} • f = {frequency:.2f} Hz • T = {period:.4f} s\"\n",
        "\n",
        "    fig.update_layout(\n",
        "        title=title,\n",
        "        xaxis_title=\"Tempo (s)\",\n",
        "        yaxis_title=\"Frequência (Hz)\",\n",
        "        width=width,\n",
        "        height=height,\n",
        "        template=\"plotly_white\",\n",
        "        margin=dict(l=60, r=20, t=50, b=40),\n",
        "        hovermode=\"x unified\",\n",
        "        dragmode=\"zoom\"\n",
        "    )\n",
        "\n",
        "    # Eixo X com range + controles de zoom\n",
        "    fig.update_xaxes(\n",
        "        range=[tmin, tmax],\n",
        "        showgrid=True,\n",
        "        zeroline=False,\n",
        "        rangeslider=dict(visible=True),\n",
        "        rangeselector=dict(\n",
        "            buttons=list([\n",
        "                dict(count=0.1, label=\"100ms\", step=\"second\", stepmode=\"backward\"),\n",
        "                dict(count=1,   label=\"1s\",    step=\"second\", stepmode=\"backward\"),\n",
        "                dict(count=5,   label=\"5s\",    step=\"second\", stepmode=\"backward\"),\n",
        "                dict(step=\"all\",label=\"Tudo\")\n",
        "            ])\n",
        "        )\n",
        "    )\n",
        "\n",
        "    # Eixo Y fixo (linear; se quiser log: fig.update_yaxes(type=\"log\"))\n",
        "    fig.update_yaxes(range=[fmin, fmax], showgrid=True, zeroline=False)\n",
        "\n",
        "    # --- Marcadores de período (linhas verticais) ---\n",
        "    if show_period_markers and (period is not None) and (period > 0):\n",
        "        k = 1\n",
        "        shapes = []\n",
        "        while k * period <= min(dur, tmax):\n",
        "            xk = k * period\n",
        "            shapes.append(dict(\n",
        "                type=\"line\",\n",
        "                xref=\"x\", yref=\"paper\",\n",
        "                x0=xk, x1=xk, y0=0, y1=1,\n",
        "                line=dict(color=\"rgba(0,0,0,0.25)\", width=1, dash=\"dot\")\n",
        "            ))\n",
        "            k += 1\n",
        "        if shapes:\n",
        "            fig.update_layout(shapes=shapes)\n",
        "\n",
        "    if show:\n",
        "      fig.show()\n",
        "\n",
        "     # --- Reconstrução opcional ---\n",
        "    x_rec = None\n",
        "    if reconstruct:\n",
        "        _, x_rec = istft(Z, fs=sr, window=win,\n",
        "                         nperseg=n_fft, noverlap=noverlap,\n",
        "                         nfft=n_fft, input_onesided=True, boundary=None)\n",
        "        if len(x_rec) > len(x):\n",
        "            x_rec = x_rec[:len(x)]\n",
        "        elif len(x_rec) < len(x):\n",
        "            x_rec = np.pad(x_rec, (0, len(x)-len(x_rec)))\n",
        "\n",
        " # --- Saídas (compatibilidade + novos componentes) ---\n",
        "    if return_components:\n",
        "        if reconstruct:\n",
        "            return f, t, S_plot, Z, x_rec\n",
        "        else:\n",
        "            return f, t, S_plot, Z\n",
        "\n",
        "    if return_data:\n",
        "        return (f, t, S_plot, x_rec) if reconstruct else (f, t, S_plot)"
      ],
      "metadata": {
        "id": "ErKCGYlWdqGT"
      },
      "execution_count": null,
      "outputs": []
    },
    {
      "cell_type": "markdown",
      "source": [
        "## Execução do STFT"
      ],
      "metadata": {
        "id": "IgSBa5x8eStd"
      }
    },
    {
      "cell_type": "code",
      "source": [
        "parquet_dir = Path(\"/content/drive/MyDrive/Datasets/DEAM/\")"
      ],
      "metadata": {
        "id": "TXRMBzZEeVtu"
      },
      "execution_count": null,
      "outputs": []
    }
  ]
}